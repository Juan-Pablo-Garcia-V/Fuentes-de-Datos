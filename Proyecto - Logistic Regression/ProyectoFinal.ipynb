{
 "cells": [
  {
   "cell_type": "code",
   "execution_count": null,
   "id": "9a6bb0f5",
   "metadata": {},
   "outputs": [],
   "source": [
    "#Hacemos los imports\n",
    "import pandas as pd\n",
    "import numpy as np\n",
    "import json\n",
    "import math\n",
    "from unidecode import unidecode\n",
    "import statistics\n",
    "import seaborn as sns\n",
    "import matplotlib.pyplot as plt\n",
    "import random\n",
    "import statistics\n"
   ]
  },
  {
   "cell_type": "code",
   "execution_count": null,
   "id": "a853d253",
   "metadata": {},
   "outputs": [],
   "source": [
    "#Cargamos directamente lo que nos interesa, la parte 'data' del json.\n",
    "with open('train-v2.0.json','r') as f:\n",
    "    data = json.load(f)['data']"
   ]
  },
  {
   "cell_type": "code",
   "execution_count": null,
   "id": "0e742f96",
   "metadata": {
    "scrolled": true
   },
   "outputs": [],
   "source": [
    "#Normalizamos para que los datos puedan ser legibles en un data frame. Renombramos las columnas. \n",
    "data_pre= pd.json_normalize(data, record_path= ['paragraphs', 'qas', 'answers'], meta= [['title'],['paragraphs', 'context'], ['paragraphs', 'qas', 'question'], ['paragraphs', 'qas', 'is_impossible']])\n",
    "data_pre.rename(columns= {'text':'answer', 'paragraphs.context':'context', 'paragraphs.qas.question':'question'}, inplace=True)\n",
    "data_pre.head(3)"
   ]
  },
  {
   "cell_type": "code",
   "execution_count": null,
   "id": "f6994ddf",
   "metadata": {},
   "outputs": [],
   "source": [
    "#Lower\n",
    "data_pre['answer']=data_pre['answer'].apply(str.lower)\n",
    "data_pre['context']=data_pre['context'].apply(str.lower)\n",
    "data_pre['question']=data_pre['question'].apply(str.lower)"
   ]
  },
  {
   "cell_type": "code",
   "execution_count": null,
   "id": "5ebbbdc3",
   "metadata": {},
   "outputs": [],
   "source": [
    "#Eliminamos los stopwords, acentos y carácteres especiales\n",
    "stopwords=['I', 'me', 'my', 'myself', 'we','our','ours','ourselves','you','your','yours','yourself','yourselves','he','him','his','himself','she','her','hers','herself','it','its','itself','they','them','their','theirs','themselves','what','which','who','whom','this','that','these','those','am','is','are','was','were','be','been','being','have','has','had','having','do','does','did','doing','a','an','the','and','but','if','or','because','as','until','while','of','at','by','for','with','about','against','between','into','through','during','before','after','above','below','to','from','up','down','in','out','on','off','over','under','again','further','then','once','here','there','when','where','why','how','all','any','both','each','few','more','most','other','some','such','no','nor','not','only','own','same','so','than','too','very','s','t','can','will','just','don','should','now']\n",
    "\n",
    "#hacemos el set de stop words para eliminar\n",
    "sw=r'\\b(?:{})\\b'.format('|'.join(stopwords))\n",
    "data_pre['question']=data_pre['question'].str.replace(sw, '')\n",
    "data_pre['context']=data_pre['context'].str.replace(sw, '')\n",
    "data_pre['answer']=data_pre['answer'].str.replace(sw, '')\n",
    "\n",
    "data_pre['context']=data_pre['context'].str.replace(r'[?!,\\'()]+', '')\n",
    "data_pre['answer']=data_pre['answer'].str.replace(r'[?!,\\'()]+', '')\n",
    "data_pre['question']=data_pre['question'].str.replace(r'[?!,\\'()]+', '')\n",
    "\n",
    "data_pre['context']=data_pre['context'].apply(lambda x:unidecode(x))\n",
    "data_pre['answer']=data_pre['answer'].apply(lambda x:unidecode(x))\n",
    "data_pre['question']=data_pre['question'].apply(lambda x:unidecode(x))\n",
    "\n",
    "#data_pre['question']=data_pre['question'].str.replace('?', '')\n",
    "\n",
    "#data_pre['answer']=data_pre['answer'].str.replace('\\W', '', regex=True)\n",
    "#data_pre['question']=data_pre['question'].str.replace('\\W', '', regex=True)\n",
    "#data_pre['context']=data_pre['context'].str.replace('\\W', '', regex=True)"
   ]
  },
  {
   "cell_type": "code",
   "execution_count": null,
   "id": "1faef80a",
   "metadata": {
    "scrolled": true
   },
   "outputs": [],
   "source": [
    "#Spliteamos a una lista cada oracion de context, con delimitador .\n",
    "data_pre['context']=data_pre['context'].str.split(\".\")\n",
    "#Usamos .explode para que cada oración quede con sus respectivos índices y columnas (combinaciones)\n",
    "data_pre=data_pre.explode('context')"
   ]
  },
  {
   "cell_type": "code",
   "execution_count": null,
   "id": "7169e79b",
   "metadata": {},
   "outputs": [],
   "source": [
    "#Drop empty elements\n",
    "#nan=null of pandas\n",
    "\n",
    "data_pre['context'].replace('', np.nan, inplace=True)\n",
    "data_pre['question'].replace('', np.nan, inplace=True)\n",
    "data_pre['answer'].replace('', np.nan, inplace=True)\n",
    "\n",
    "data_pre.dropna(subset=[\"context\"], inplace=True)\n",
    "data_pre.dropna(subset=[\"question\"], inplace=True)\n",
    "data_pre.dropna(subset=[\"answer\"], inplace=True)"
   ]
  },
  {
   "cell_type": "code",
   "execution_count": null,
   "id": "b487ed09",
   "metadata": {},
   "outputs": [],
   "source": [
    "data_pre.head(10)"
   ]
  },
  {
   "cell_type": "code",
   "execution_count": null,
   "id": "eb491651",
   "metadata": {},
   "outputs": [],
   "source": []
  },
  {
   "cell_type": "code",
   "execution_count": null,
   "id": "7b275b59",
   "metadata": {},
   "outputs": [],
   "source": [
    "def jaccard(list1, list2):\n",
    "    intersection = len(list(set(list1).intersection(list2)))\n",
    "    union = (len(list1) + len(list2)) - intersection\n",
    "    return float(intersection) / union"
   ]
  },
  {
   "cell_type": "code",
   "execution_count": null,
   "id": "3b7e8fe4",
   "metadata": {},
   "outputs": [],
   "source": [
    "def ans(list1, list2):\n",
    "    check = all(item in list1 for item in list2)\n",
    "    if check is True:\n",
    "        return 1;\n",
    "    else:\n",
    "        return 0;"
   ]
  },
  {
   "cell_type": "code",
   "execution_count": null,
   "id": "86eb5de6",
   "metadata": {},
   "outputs": [],
   "source": [
    "#Tokenizamos y hacemos el dataframe data_jaccard que tiene Ans y la distancia\n",
    "#Pasamos todo a listas\n",
    "data_pre['context']=data_pre['context'].str.split()\n",
    "data_pre['question']=data_pre['question'].str.split()\n",
    "data_pre['answer']=data_pre['answer'].str.split()\n",
    "\n",
    "data_jaccard= pd.DataFrame()\n",
    "\n",
    "data_jaccard[\"Jaccard(context_i_line_j, q_i_k)\"] = data_pre.apply(lambda x: jaccard(x['context'], x['question']), axis=1)\n",
    "data_jaccard[\"Ans\"]= data_pre.apply(lambda x: ans(x['context'], x['answer']), axis=1 )"
   ]
  },
  {
   "cell_type": "code",
   "execution_count": null,
   "id": "3bf16a7f",
   "metadata": {
    "scrolled": true
   },
   "outputs": [],
   "source": [
    "data_jaccard.head(50)"
   ]
  },
  {
   "cell_type": "code",
   "execution_count": null,
   "id": "6e018b75",
   "metadata": {},
   "outputs": [],
   "source": [
    "data_jaccard.info()"
   ]
  },
  {
   "cell_type": "code",
   "execution_count": null,
   "id": "562adbfd",
   "metadata": {},
   "outputs": [],
   "source": [
    "#5% Hacemos el sample\n",
    "sample_1_jaccard=data_jaccard.sample(n=math.ceil(490330*0.05), replace=False, random_state= np.random.seed(123454321))\n",
    "\n",
    "#1% Hacemos el sample\n",
    "sample_2_jaccard=data_jaccard.sample(n=math.ceil(490330*0.01), replace=False, random_state= np.random.seed(123454321))"
   ]
  },
  {
   "cell_type": "code",
   "execution_count": null,
   "id": "3416a5f3",
   "metadata": {},
   "outputs": [],
   "source": [
    "class Logit:\n",
    "      '''\n",
    "      This class is a logit classifier\n",
    "      X in [m, n+1]\n",
    "       n: variables\n",
    "       m: observations\n",
    "      y in [m, 1]\n",
    "      theta in [1, n+1]\n",
    "      np.dot(X, theta.T)\n",
    "      \n",
    "      ''' \n",
    "      def __init__(self, X, y, alpha=.005):\n",
    "            self.X = self.add_ordinate(X)\n",
    "            self.y = y\n",
    "            self.theta = np.random.rand(X.shape[1]+1).reshape(1, -1)\n",
    "            self.alpha = alpha # This is the learning rate\n",
    "            self.loss_hist = []\n",
    "            print(f'Loading data: X shape [{self.X.shape}]')\n",
    "            print(f'Loading data: y shape [{self.y.shape}]')\n",
    "            print(f'params shape: theta [{self.theta.shape}]')\n",
    "\n",
    "      def add_ordinate(self, X):\n",
    "            return np.hstack([np.ones(X.shape[0]).reshape(-1, 1), X])\n",
    "      \n",
    "            \n",
    "      def forward(self, X=None):\n",
    "            '''\n",
    "            This function implements:\n",
    "            the logit pass to X. 1/(1 + e-z*theta)\n",
    "            '''\n",
    "            X = self.add_ordinate(X) if not X is None else self.X\n",
    "            print(X.shape)\n",
    "            return 1/(1 + np.exp(-np.dot(X, self.theta.T)))\n",
    "\n",
    "      def loss(self):\n",
    "            '''\n",
    "            Computes cross entropy loss\n",
    "            '''\n",
    "            p = self.forward()\n",
    "            return -np.mean(self.y*np.log(p) + (1-self.y)*np.log(1-p))\n",
    "\n",
    "      def train(self, tol=1e-5, max_iter=10000):\n",
    "            iters = 0\n",
    "            loss = np.Inf\n",
    "            print(iters)\n",
    "            while(loss > tol and iters < max_iter):\n",
    "                  loss = self.loss()\n",
    "                  if not iters % 500:\n",
    "                        print(f'loss: {loss}')\n",
    "                  p = self.forward().reshape(-1, 1)\n",
    "                  self.theta -= -self.alpha*np.mean((self.y - p)*self.X, axis=0)\n",
    "                  iters += 1\n",
    "                  self.loss_hist.append(loss)"
   ]
  },
  {
   "cell_type": "code",
   "execution_count": null,
   "id": "814df2d5",
   "metadata": {},
   "outputs": [],
   "source": [
    "#5% Shapeamos a arreglos\n",
    "x_sample_1= sample_1_jaccard.loc[:, 'Jaccard(context_i_line_j, q_i_k)'].values.reshape(-1,1)\n",
    "y_sample_1= sample_1_jaccard.loc[:, 'Ans'].values.reshape(24517,1)\n"
   ]
  },
  {
   "cell_type": "code",
   "execution_count": null,
   "id": "d0304d99",
   "metadata": {},
   "outputs": [],
   "source": [
    "#1% Shapeamos a arreglos\n",
    "x_sample_2= sample_2_jaccard.loc[:, 'Jaccard(context_i_line_j, q_i_k)'].values.reshape(-1,1)\n",
    "y_sample_2= sample_2_jaccard.loc[:, 'Ans'].values.reshape(4904,1)"
   ]
  },
  {
   "cell_type": "code",
   "execution_count": null,
   "id": "b7bb2a67",
   "metadata": {
    "scrolled": true
   },
   "outputs": [],
   "source": [
    "#5% Clase\n",
    "log_1= Logit(X=x_sample_1, y=y_sample_1)"
   ]
  },
  {
   "cell_type": "code",
   "execution_count": null,
   "id": "5b2f99ca",
   "metadata": {},
   "outputs": [],
   "source": [
    "#1% Clase\n",
    "log_2=Logit(X=x_sample_2, y=y_sample_2)"
   ]
  },
  {
   "cell_type": "code",
   "execution_count": null,
   "id": "be6f16ba",
   "metadata": {},
   "outputs": [],
   "source": [
    "#5% Entrenamos\n",
    "log_1.train()"
   ]
  },
  {
   "cell_type": "code",
   "execution_count": null,
   "id": "7e9faee0",
   "metadata": {},
   "outputs": [],
   "source": [
    "#1%\n",
    "log_2.train()"
   ]
  },
  {
   "cell_type": "code",
   "execution_count": null,
   "id": "7b2d18bd",
   "metadata": {},
   "outputs": [],
   "source": [
    "#5% Obtenemos Theta del sample\n",
    "sample_theta_1=getattr(log_1, 'theta')\n",
    "#sample_theta=log_1.theta\n",
    "print(sample_theta_1)"
   ]
  },
  {
   "cell_type": "code",
   "execution_count": null,
   "id": "30db3f36",
   "metadata": {},
   "outputs": [],
   "source": [
    "#1% Obtenemos Theta del sample\n",
    "sample_theta_2=getattr(log_2, 'theta')\n",
    "#sample_theta=log_1.theta\n",
    "print(sample_theta_2)"
   ]
  },
  {
   "cell_type": "code",
   "execution_count": null,
   "id": "d1b8c973",
   "metadata": {},
   "outputs": [],
   "source": [
    "#Bootstrap function that gets sample with replacement from the original smaple\n",
    "\n",
    "def boot5(sample):\n",
    "    resample= sample.sample(n=len(sample), replace=True)\n",
    "    x_resample= resample.loc[:, 'Jaccard(context_i_line_j, q_i_k)'].values.reshape(-1,1)\n",
    "    y_resample= resample.loc[:, 'Ans'].values.reshape(24517,1)\n",
    "    log_resample= Logit(X=x_resample, y=y_resample)\n",
    "    log_resample.train()\n",
    "    thetas=log_resample.theta\n",
    "    return thetas"
   ]
  },
  {
   "cell_type": "code",
   "execution_count": null,
   "id": "0cf4d14e",
   "metadata": {},
   "outputs": [],
   "source": [
    "#Bootstrap function that gets sample with replacement from the original smaple\n",
    "\n",
    "def boot1(sample):\n",
    "    resample= sample.sample(n=len(sample), replace=True)\n",
    "    x_resample= resample.loc[:, 'Jaccard(context_i_line_j, q_i_k)'].values.reshape(-1,1)\n",
    "    y_resample= resample.loc[:, 'Ans'].values.reshape(4904,1)\n",
    "    log_resample= Logit(X=x_resample, y=y_resample)\n",
    "    log_resample.train()\n",
    "    thetas=log_resample.theta\n",
    "    return thetas"
   ]
  },
  {
   "cell_type": "code",
   "execution_count": null,
   "id": "7945041d",
   "metadata": {},
   "outputs": [],
   "source": [
    "#Creating a list to capture the boot function outputs for 5%\n",
    "thetas_0_5=[]\n",
    "thetas_1_5=[]\n",
    "\n",
    "#5%\n",
    "for i in range(100):\n",
    "    thetas_5=boot5(sample_1_jaccard)\n",
    "    thetas_0_5.append(thetas_5[0][0])\n",
    "    thetas_1_5.append(thetas_5[0][1])"
   ]
  },
  {
   "cell_type": "code",
   "execution_count": null,
   "id": "04598370",
   "metadata": {},
   "outputs": [],
   "source": [
    "#Creating a list to capture the boot function outputs for 1%\n",
    "thetas_0_1=[]\n",
    "thetas_1_1=[]\n",
    "\n",
    "#5%\n",
    "for i in range(100):\n",
    "    thetas_1=boot1(sample_2_jaccard)\n",
    "    thetas_0_1.append(thetas_1[0][0])\n",
    "    thetas_1_1.append(thetas_1[0][1])"
   ]
  },
  {
   "cell_type": "code",
   "execution_count": null,
   "id": "5e43a81b",
   "metadata": {},
   "outputs": [],
   "source": [
    "print(thetas_0_5)\n",
    "print(thetas_1_5)\n",
    "\n",
    "print(thetas_0_1)\n",
    "print(thetas_1_1)"
   ]
  },
  {
   "cell_type": "code",
   "execution_count": null,
   "id": "2473f9d9",
   "metadata": {},
   "outputs": [],
   "source": [
    "print(len(thetas_0_5))\n",
    "print(len(thetas_1_5))\n",
    "\n",
    "print(len(thetas_0_1))\n",
    "print(len(thetas_1_1))\n"
   ]
  },
  {
   "cell_type": "code",
   "execution_count": null,
   "id": "ad0dc209",
   "metadata": {
    "scrolled": true
   },
   "outputs": [],
   "source": [
    "import statistics\n",
    "#Thetas_0 for 5%\n",
    "plt.hist(thetas_0_5, bins=100, color='c', edgecolor='k')\n",
    "ci=np.percentile(thetas_0, [2.5, 97.5])\n",
    "lower_bound_thetas_0= ci[0]\n",
    "upper_bound_thetas_0=ci[1]\n",
    "\n",
    "plt.axvline(lower_bound_thetas_0, color='k', linestyle='dashed')\n",
    "plt.axvline(upper_bound_thetas_0, color='k', linestyle='dashed')\n",
    "\n",
    "\n"
   ]
  },
  {
   "cell_type": "code",
   "execution_count": null,
   "id": "0223bc2c",
   "metadata": {
    "scrolled": true
   },
   "outputs": [],
   "source": [
    "#Thetas_1 for 5%\n",
    "plt.hist(thetas_1_5, bins=100, color='c', edgecolor='k')\n",
    "ci=np.percentile(thetas_1, [2.5, 97.5])\n",
    "lower_bound_thetas_1= ci[0]\n",
    "upper_bound_thetas_1=ci[1]\n",
    "\n",
    "plt.axvline(lower_bound_thetas_1, color='k', linestyle='dashed')\n",
    "plt.axvline(upper_bound_thetas_1, color='k', linestyle='dashed')"
   ]
  },
  {
   "cell_type": "code",
   "execution_count": null,
   "id": "0866c18c",
   "metadata": {},
   "outputs": [],
   "source": [
    "#Thetas_0 for 1%\n",
    "plt.hist(thetas_0_1, bins=100, color='c', edgecolor='k')\n",
    "ci=np.percentile(thetas_0_1, [2.5, 97.5])\n",
    "lower_bound_thetas_0= ci[0]\n",
    "upper_bound_thetas_0=ci[1]\n",
    "\n",
    "plt.axvline(lower_bound_thetas_0, color='k', linestyle='dashed')\n",
    "plt.axvline(upper_bound_thetas_0, color='k', linestyle='dashed')\n"
   ]
  },
  {
   "cell_type": "code",
   "execution_count": null,
   "id": "36557cdc",
   "metadata": {},
   "outputs": [],
   "source": [
    "#Thetas_1 for 1%\n",
    "plt.hist(thetas_1_1, bins=100, color='c', edgecolor='k')\n",
    "ci=np.percentile(thetas_1_1, [2.5, 97.5])\n",
    "lower_bound_thetas_1= ci[0]\n",
    "upper_bound_thetas_1=ci[1]\n",
    "\n",
    "plt.axvline(lower_bound_thetas_1, color='k', linestyle='dashed')\n",
    "plt.axvline(upper_bound_thetas_1, color='k', linestyle='dashed')"
   ]
  },
  {
   "cell_type": "code",
   "execution_count": null,
   "id": "dd93b0bd",
   "metadata": {},
   "outputs": [],
   "source": [
    "#5% Theta 1\n",
    "thetas_1_5.sort()\n",
    "np.percentile(thetas_1_5, [2.5, 97.5])"
   ]
  },
  {
   "cell_type": "code",
   "execution_count": null,
   "id": "7c5e7618",
   "metadata": {},
   "outputs": [],
   "source": [
    "#1% Theta 1\n",
    "thetas_1_1.sort()\n",
    "np.percentile(thetas_1_1, [2.5, 97.5])"
   ]
  },
  {
   "cell_type": "code",
   "execution_count": null,
   "id": "92ebe95a",
   "metadata": {},
   "outputs": [],
   "source": [
    "#5% Theta 0\n",
    "thetas_0_5.sort()\n",
    "np.percentile(thetas_0_5, [2.5, 97.5])"
   ]
  },
  {
   "cell_type": "code",
   "execution_count": null,
   "id": "56f2f2b1",
   "metadata": {},
   "outputs": [],
   "source": [
    "#1% Theta 0\n",
    "thetas_0_1.sort()\n",
    "np.percentile(thetas_0_1, [2.5, 97.5])"
   ]
  },
  {
   "cell_type": "code",
   "execution_count": null,
   "id": "2225a62f",
   "metadata": {},
   "outputs": [],
   "source": [
    "#5% Con el método Standard Error - aplicando Teorema central del límite\n",
    "m1= statistics.mean(thetas_0_5)\n",
    "m2= statistics.mean(thetas_1_5)\n",
    "\n",
    "s0=statistics.stdev(thetas_0_5)\n",
    "s1=statistics.stdev(thetas_1_5)\n",
    "\n",
    "percentile_lower_thetas_0= sample_theta_1[0][0] - 2*s0\n",
    "percentile_upper_thetas_0=sample_theta_1[0][0] + 2*s0\n",
    "\n",
    "percentile_lower_thetas_1= sample_theta_1[0][1] - 2*s1\n",
    "percentile_upper_thetas_1=sample_theta_1[0][1] + 2*s1\n",
    "\n",
    "print(percentile_lower_thetas_0)\n",
    "print(percentile_upper_thetas_0)\n",
    "print(percentile_lower_thetas_1)\n",
    "print(percentile_upper_thetas_1)"
   ]
  },
  {
   "cell_type": "code",
   "execution_count": null,
   "id": "f2dfc339",
   "metadata": {},
   "outputs": [],
   "source": [
    "#1% - TCL\n",
    "m1= statistics.mean(thetas_0_1)\n",
    "m2= statistics.mean(thetas_1_1)\n",
    "\n",
    "s0=statistics.stdev(thetas_0_1)\n",
    "s1=statistics.stdev(thetas_1_1)\n",
    "\n",
    "percentile_lower_thetas_0= sample_theta_2[0][0] - 2*s0\n",
    "percentile_upper_thetas_0=sample_theta_2[0][0] + 2*s0\n",
    "\n",
    "percentile_lower_thetas_1= sample_theta_2[0][1] - 2*s1\n",
    "percentile_upper_thetas_1=sample_theta_2[0][1] + 2*s1\n",
    "\n",
    "print(percentile_lower_thetas_0)\n",
    "print(percentile_upper_thetas_0)\n",
    "print(percentile_lower_thetas_1)\n",
    "print(percentile_upper_thetas_1)"
   ]
  }
 ],
 "metadata": {
  "kernelspec": {
   "display_name": "Python 3 (ipykernel)",
   "language": "python",
   "name": "python3"
  },
  "language_info": {
   "codemirror_mode": {
    "name": "ipython",
    "version": 3
   },
   "file_extension": ".py",
   "mimetype": "text/x-python",
   "name": "python",
   "nbconvert_exporter": "python",
   "pygments_lexer": "ipython3",
   "version": "3.9.13"
  }
 },
 "nbformat": 4,
 "nbformat_minor": 5
}
